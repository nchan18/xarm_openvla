{
 "cells": [
  {
   "cell_type": "code",
   "execution_count": 4,
   "id": "e379169a",
   "metadata": {},
   "outputs": [],
   "source": [
    "import h5py\n",
    "import glob\n",
    "\n",
    "import numpy as np\n",
    "from PIL import Image\n",
    "\n",
    "trajectory_base_path = '/workspace/xarm-dataset/place_the_blue_box_on_plate'\n",
    "trajectory_action_paths = glob.glob(f'{trajectory_base_path}*/action/*.hdf5')\n",
    "\n",
    "all_trajectory_actions = []\n",
    "\n",
    "for file_path in trajectory_action_paths:\n",
    "\n",
    "    ### Load the trajectory with h5py\n",
    "    with h5py.File(file_path, 'r') as f:\n",
    "        ### Parse the image paths and load the corresponding images\n",
    "        image_paths = [\n",
    "            path.decode('utf-8').replace('/workspace/xarm-dataset/place_the_blue_box_on_plate', trajectory_base_path)\n",
    "            for path in f['image_path'][:]\n",
    "        ]\n",
    "\n",
    "        images = []\n",
    "        for img_path in image_paths:\n",
    "            img = Image.open(img_path)\n",
    "            img = img.resize((256, 256), resample=0)\n",
    "            img_array = np.array(img)\n",
    "            if len(img_array.shape) == 2:\n",
    "                img_array = np.stack([img_array] * 3, axis=-1)\n",
    "            images.append(img_array)\n",
    "\n",
    "        ### Parse the action vectors from the trajectory\n",
    "        actions = np.concatenate([\n",
    "            f['abs_pos'][:], \n",
    "            f['abs_rot'][:], \n",
    "            f['gripper'][:][:, np.newaxis],\n",
    "            \n",
    "        ], axis=1)\n",
    "\n",
    "        all_trajectory_actions.append(actions)"
   ]
  }
 ],
 "metadata": {
  "kernelspec": {
   "display_name": "openvla",
   "language": "python",
   "name": "python3"
  },
  "language_info": {
   "codemirror_mode": {
    "name": "ipython",
    "version": 3
   },
   "file_extension": ".py",
   "mimetype": "text/x-python",
   "name": "python",
   "nbconvert_exporter": "python",
   "pygments_lexer": "ipython3",
   "version": "3.10.16"
  }
 },
 "nbformat": 4,
 "nbformat_minor": 5
}
